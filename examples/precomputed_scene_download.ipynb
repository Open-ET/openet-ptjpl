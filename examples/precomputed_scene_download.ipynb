{
 "cells": [
  {
   "cell_type": "code",
   "execution_count": 24,
   "metadata": {},
   "outputs": [],
   "source": [
    "import pprint\n",
    "import time\n",
    "\n",
    "import ee\n",
    "\n",
    "ee.Initialize()\n"
   ]
  },
  {
   "cell_type": "markdown",
   "metadata": {},
   "source": [
    "### Export Parameters"
   ]
  },
  {
   "cell_type": "code",
   "execution_count": 34,
   "metadata": {},
   "outputs": [],
   "source": [
    "scene_coll_id = 'projects/earthengine-legacy/assets/projects/openet/ptjpl/landsat/scene'\n",
    "\n",
    "start_date = '2017-07-01'\n",
    "end_date = '2017-08-01'\n",
    "\n",
    "wrs2_tiles = ['p042r035']\n",
    "# filter_geom = ee.Geometry.Point(-119.5, 36.0)\n",
    "\n",
    "gdrive_folder = 'EE_Exports'\n",
    "\n",
    "# This code only supports exporting a single band (since PTJPL only has one band)\n",
    "variable = 'et'\n"
   ]
  },
  {
   "cell_type": "markdown",
   "metadata": {},
   "source": [
    "### Build the scene collection you wish to download"
   ]
  },
  {
   "cell_type": "code",
   "execution_count": 35,
   "metadata": {},
   "outputs": [
    {
     "name": "stdout",
     "output_type": "stream",
     "text": [
      "['lc08_042035_20170702',\n",
      " 'lc08_042035_20170718',\n",
      " 'le07_042035_20170710',\n",
      " 'le07_042035_20170726']\n"
     ]
    }
   ],
   "source": [
    "# Build the filtered collection\n",
    "scene_coll = ee.ImageCollection(scene_coll_id) \\\n",
    "    .filterDate(start_date, end_date)\n",
    "\n",
    "# Filter the collection by WRS2 path/row and/or geometry\n",
    "if wrs2_tiles:\n",
    "    scene_coll = scene_coll.filter(ee.Filter.inList('wrs2_tile', wrs2_tiles))\n",
    "# if filter_geom:\n",
    "#     scene_coll = scene_coll.filterBounds(filter_geom)\n",
    "    \n",
    "# The only band available is ET so it isn't necessary to select it\n",
    "#     .select([variable])\n",
    "    \n",
    "scene_id_list = scene_coll.aggregate_array('system:index').getInfo()\n",
    "    \n",
    "# Print the scene IDs of the filtered collection\n",
    "pprint.pprint(scene_id_list)\n"
   ]
  },
  {
   "cell_type": "markdown",
   "metadata": {},
   "source": [
    "### Start the exports"
   ]
  },
  {
   "cell_type": "code",
   "execution_count": 28,
   "metadata": {},
   "outputs": [
    {
     "name": "stdout",
     "output_type": "stream",
     "text": [
      "lc08_042035_20170702\n",
      "{'creation_timestamp_ms': 1590540124443,\n",
      " 'description': 'ptjpl_et_lc08_042035_20170702',\n",
      " 'id': 'SXKTV5ZK6LM34TWZACTY2CAL',\n",
      " 'name': 'projects/earthengine-legacy/operations/SXKTV5ZK6LM34TWZACTY2CAL',\n",
      " 'start_timestamp_ms': 0,\n",
      " 'state': 'READY',\n",
      " 'task_type': 'EXPORT_IMAGE',\n",
      " 'update_timestamp_ms': 1590540124443}\n",
      "lc08_042035_20170718\n",
      "{'creation_timestamp_ms': 1590540126624,\n",
      " 'description': 'ptjpl_et_lc08_042035_20170718',\n",
      " 'id': 'HTITFXKFUXTJBPXYPQAUVAGT',\n",
      " 'name': 'projects/earthengine-legacy/operations/HTITFXKFUXTJBPXYPQAUVAGT',\n",
      " 'start_timestamp_ms': 0,\n",
      " 'state': 'READY',\n",
      " 'task_type': 'EXPORT_IMAGE',\n",
      " 'update_timestamp_ms': 1590540126624}\n",
      "le07_042035_20170710\n",
      "{'creation_timestamp_ms': 1590540128777,\n",
      " 'description': 'ptjpl_et_le07_042035_20170710',\n",
      " 'id': '6L6IQN6E77DURNJSYW322OXF',\n",
      " 'name': 'projects/earthengine-legacy/operations/6L6IQN6E77DURNJSYW322OXF',\n",
      " 'start_timestamp_ms': 0,\n",
      " 'state': 'READY',\n",
      " 'task_type': 'EXPORT_IMAGE',\n",
      " 'update_timestamp_ms': 1590540128777}\n",
      "le07_042035_20170726\n",
      "{'creation_timestamp_ms': 1590540130996,\n",
      " 'description': 'ptjpl_et_le07_042035_20170726',\n",
      " 'id': 'QJP2VZFN7UXFEWT5DGVSDX2T',\n",
      " 'name': 'projects/earthengine-legacy/operations/QJP2VZFN7UXFEWT5DGVSDX2T',\n",
      " 'start_timestamp_ms': 0,\n",
      " 'state': 'READY',\n",
      " 'task_type': 'EXPORT_IMAGE',\n",
      " 'update_timestamp_ms': 1590540130996}\n"
     ]
    }
   ],
   "source": [
    "for scene_id in scene_id_list:\n",
    "    print(f'{scene_id}')\n",
    "    image_id = f'{scene_coll_id}/{scene_id}'\n",
    "    export_id = f'ptjpl_{variable}_{scene_id}'\n",
    "    \n",
    "    # Get the projection, shape and transform from the image\n",
    "    output_img = ee.Image(image_id)\n",
    "    output_info = output_img.getInfo()\n",
    "    # output_proj = output_img.projection().getInfo()\n",
    "    # pprint.pprint(output_info)\n",
    "    # pprint.pprint(output_proj)\n",
    "    \n",
    "    # Apply the scale factor if necessary\n",
    "    # The casting probably isn't necessary but I was just playing around\n",
    "    if ('scale_factor' in output_info['properties'].keys() and \n",
    "           output_info['properties']['scale_factor'] != 1):\n",
    "        output_img = output_img \\\n",
    "            .toDouble() \\\n",
    "            .multiply(output_info['properties']['scale_factor'])\n",
    "        #     .toFloat()\n",
    "    \n",
    "    # Build the export task\n",
    "    task = ee.batch.Export.image.toDrive(\n",
    "        output_img,\n",
    "        description=export_id,\n",
    "        folder=gdrive_folder,\n",
    "        fileNamePrefix=export_id,\n",
    "        dimensions=output_info['bands'][0]['dimensions'],\n",
    "        crs=output_info['bands'][0]['crs'],\n",
    "        crsTransform=output_info['bands'][0]['crs_transform'],\n",
    "        # maxPixels=1E10,\n",
    "        # pyramidingPolicy='mean',\n",
    "    )\n",
    "    \n",
    "    # Start the export task\n",
    "    task.start()\n",
    "    \n",
    "    time.sleep(1)\n",
    "    # pprint.pprint(task.status())\n"
   ]
  },
  {
   "cell_type": "code",
   "execution_count": null,
   "metadata": {},
   "outputs": [],
   "source": []
  }
 ],
 "metadata": {
  "kernelspec": {
   "display_name": "Python 3",
   "language": "python",
   "name": "python3"
  },
  "language_info": {
   "codemirror_mode": {
    "name": "ipython",
    "version": 3
   },
   "file_extension": ".py",
   "mimetype": "text/x-python",
   "name": "python",
   "nbconvert_exporter": "python",
   "pygments_lexer": "ipython3",
   "version": "3.6.9"
  }
 },
 "nbformat": 4,
 "nbformat_minor": 4
}
